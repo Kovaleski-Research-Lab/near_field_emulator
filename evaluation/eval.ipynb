{
 "cells": [
  {
   "cell_type": "code",
   "execution_count": null,
   "metadata": {},
   "outputs": [],
   "source": [
    "import evaluation as eval\n",
    "import pickle as pkl\n",
    "import os\n",
    "from sklearn.metrics import mean_squared_error\n",
    "import matplotlib.pyplot as plt\n",
    "import numpy as np\n",
    "\n",
    "min_list = [None, None, None, None, None]\n",
    "max_list = [None, None, None, None, None]\n",
    "\n",
    "path_results = \"/home/hexa/ejmcmk/results\"\n",
    "path_resims = \"/home/hexa/ejmcmk/resims/resim_outputs\"\n",
    "folder_name = \"model_baseline_mse_v2\"\n",
    "folder_path = os.path.join(path_results, folder_name)\n",
    "save_dir = folder_path\n",
    "\n",
    "# get results\n",
    "loss, train_results, valid_results = eval.get_results(path_results, folder_name)"
   ]
  },
  {
   "cell_type": "code",
   "execution_count": null,
   "metadata": {},
   "outputs": [],
   "source": [
    "# grab relevant eval info\n",
    "model_info = eval.gather_info(folder_path)"
   ]
  },
  {
   "cell_type": "code",
   "execution_count": null,
   "metadata": {},
   "outputs": [],
   "source": [
    "eval.plot_loss(model_info, min_list, max_list, save_fig=True, save_dir=save_dir)"
   ]
  },
  {
   "cell_type": "code",
   "execution_count": null,
   "metadata": {},
   "outputs": [],
   "source": [
    "plt.close('all')\n",
    "\n",
    "eval.plot_dft_fields(train_results, valid_results, sample_idx=0, save_fig=True, save_dir=save_dir)"
   ]
  }
 ],
 "metadata": {
  "kernelspec": {
   "display_name": "research",
   "language": "python",
   "name": "python3"
  },
  "language_info": {
   "name": "python",
   "version": "3.10.14"
  }
 },
 "nbformat": 4,
 "nbformat_minor": 2
}
